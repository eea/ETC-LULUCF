{
 "cells": [
  {
   "cell_type": "code",
   "execution_count": 2,
   "metadata": {},
   "outputs": [
    {
     "name": "stdout",
     "output_type": "stream",
     "text": [
      "---\n",
      "S01_Little_effort_afforestation\n",
      "---\n",
      "S02_Semi_effort_afforestation\n",
      "---\n",
      "S03_High_effort_afforestation\n",
      "---\n",
      "S04_Slope_protection\n"
     ]
    }
   ],
   "source": [
    "\n",
    "import json\n",
    "with open('../../config/afforestation_scenarios_parameters.json') as file:\n",
    "   data = json.load(file)\n",
    "#print(data)\n",
    "for scenario in data[\"scenarios\"]:\n",
    "        print(\"---\")\n",
    "        scenario_name=        scenario[\"name\"]\n",
    "        scenario_Slope=       scenario[\"Slope\"]\n",
    "        scenario_Tree_prob = scenario[\"Tree_prob\"]\n",
    "        scenario_RCP=(scenario[\"RCP\"])\n",
    "        scenario_Tree_species=(scenario[\"Tree_species\"])\n",
    "        scenario_Perc_reforest=(scenario[\"Perc_reforest\"])\n",
    "        scenario_Year_potential=(scenario[\"Year_potential\"])\n",
    "        scenario_input_source=(scenario[\"input_source\"])\n",
    "        print(scenario_name)\n"
   ]
  }
 ],
 "metadata": {
  "kernelspec": {
   "display_name": "test_env",
   "language": "python",
   "name": "python3"
  },
  "language_info": {
   "codemirror_mode": {
    "name": "ipython",
    "version": 3
   },
   "file_extension": ".py",
   "mimetype": "text/x-python",
   "name": "python",
   "nbconvert_exporter": "python",
   "pygments_lexer": "ipython3",
   "version": "3.9.16"
  },
  "orig_nbformat": 4
 },
 "nbformat": 4,
 "nbformat_minor": 2
}
