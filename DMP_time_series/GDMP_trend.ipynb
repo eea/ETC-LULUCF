{
 "cells": [
  {
   "cell_type": "code",
   "execution_count": 1,
   "metadata": {},
   "outputs": [],
   "source": [
    "import os\n",
    "from pathlib import Path\n",
    "import xarray as xr\n",
    "import rioxarray as rio\n",
    "import pandas as pd\n",
    "from datetime import datetime\n",
    "import glob\n",
    "import pymannkendall as mk\n",
    "\n",
    "\"\"\" Calculate slope and p-value of Mann-Kendall test\n",
    "\n",
    "aoi_name: area of interest (must be defined in aoi_coords). Necessary in order to avoid memory error\n",
    "aoi_coords: bounding box coordinates of AOI\n",
    "base_path: path object (path to folder that contains LINT folder)\n",
    "base1, base2: start and end of baseline period\n",
    "\"\"\"\n",
    "start_year = 2014\n",
    "end_year = 2021 # last year for which we have data\n",
    "\n",
    "base_path = Path(r'S:\\Common workspace\\ETC_DI\\f03_JEDI_PREPARATION\\f01_dims\\DMPtime-series')\n",
    "base1 = 2014\n",
    "base2 = 2021\n",
    "\n",
    "aoi_bbox = dict(\n",
    "        west=(1500000.0000, 900000.0000, 1500000.0000+(7400000.0000-1500000.0000)/2,5500000.0000 ),\n",
    "        east=(1500000.0000+(7400000.0000-1500000.0000)/2,  900000.0000, 7400000.0000,5500000.0000 ),\n",
    "        # luxembourg = (4014674.4725, 2933830.0285, 4071341.1143999994, 3015531.6271) ## used for testing\n",
    "        )\n",
    "\n",
    "# helper function to compute slope and p-value of MK test\n",
    "def mk_trend_slope(vec, verbose=False):\n",
    "    trend=mk.original_test(vec)\n",
    "    slope=trend.slope\n",
    "    p = trend.p\n",
    "    if verbose:\n",
    "        print(slope,p)\n",
    "    return (slope,p)\n"
   ]
  },
  {
   "cell_type": "code",
   "execution_count": null,
   "metadata": {},
   "outputs": [],
   "source": [
    "aoi_name = \"luxembourg\"\n",
    "print(\"loading data for aoi area: \"+aoi_name)\n",
    "aoi_coords = aoi_bbox[aoi_name]\n",
    "# AOI: subset of Europe, e.g. Iberian peninsula (in order to get everything into memory)\n",
    "# (adding 1x spacing to make sure SMA covers entire AOI)\n",
    "spacing = 1000\n",
    "xmin = aoi_coords[0] - spacing\n",
    "ymin = aoi_coords[1] - spacing\n",
    "xmax = aoi_coords[2] + spacing\n",
    "ymax = aoi_coords[3] + spacing\n",
    "\n",
    "baseline_period = (base1, base2)\n",
    "\n",
    "# select tiffs\n",
    "resolution = \"1km\" ### change this to point to the right folder\n",
    "in_path = os.path.join(base_path, f'GDMP_{resolution}')\n",
    "\n",
    "out_path = os.path.join(base_path, f'GDMP_{resolution}_mk_{aoi_name}')\n",
    "if not os.path.exists(out_path):\n",
    "    os.mkdir(out_path)\n",
    "\n",
    "# load GDMP into xarray\n",
    "# tif_list = [f for f in os.listdir(in_path) if 'GDMP' in f]\n",
    "tif_list = [os.path.basename(f) for f in glob.glob(in_path + '/GDMP_*.tif')]\n",
    "# Create variable used for time axis\n",
    "time_var = xr.Variable('time', pd.to_datetime([f'{fname[5:9]}-01-01' for fname in tif_list]))\n",
    "# Load in and concatenate all individual GeoTIFFs\n",
    "gdmp_ds= xr.concat([xr.open_dataset(os.path.join(in_path, i), engine='rasterio').sel(y=slice(ymax, ymin), x=slice(xmin, xmax)) for i in tif_list], dim=time_var)\n",
    "# gdmp_ds= xr.concat([xr.open_dataset(os.path.join(in_path, i), engine='rasterio').sel(y=slice(ymin+10000, ymin), x=slice(xmin, xmin+10000)) for i in tif_list], dim=time_var)\n",
    "# Rename the variable to a more useful name\n",
    "gdmp_ds = gdmp_ds.rename({'band_data': 'GDMP'})\n",
    "gdmp_ds = gdmp_ds*0.02\n",
    "print(gdmp_ds)\n"
   ]
  },
  {
   "cell_type": "code",
   "execution_count": null,
   "metadata": {},
   "outputs": [],
   "source": [
    "\n",
    "print(\"start computation\")\n",
    "# compute slope and p-value of Mann-Kendall test, slow\n",
    "slope,pvalue = xr.apply_ufunc(mk_trend_slope,gdmp_ds,input_core_dims=[['time']], output_core_dims=[[],[]], vectorize=True)\n"
   ]
  },
  {
   "attachments": {},
   "cell_type": "markdown",
   "metadata": {},
   "source": [
    "Alternative with Dask (parallel computing)"
   ]
  },
  {
   "cell_type": "code",
   "execution_count": null,
   "metadata": {},
   "outputs": [],
   "source": [
    "# alternative with dask for parallelization\n",
    "gdmp_chunked = gdmp_ds.chunk({\"x\": 10, \"y\": 10})\n",
    "slope_dask, pvalue_dask = xr.apply_ufunc(\n",
    "    mk_trend_slope,gdmp_chunked,\n",
    "    input_core_dims=[['time']],\n",
    "    output_core_dims=[[],[]],\n",
    "    vectorize=True, \n",
    "    dask=\"parallelized\",\n",
    "    output_dtypes=[gdmp_chunked.GDMP.dtype, gdmp_chunked.GDMP.dtype])\n",
    "\n",
    "# Progress bar with the distributed scheduler\n",
    "from dask.distributed import Client, progress\n",
    "client = Client()  # use dask.distributed by default\n",
    "pvalue_dask = pvalue_dask.persist()  # start computation in the background\n",
    "progress(pvalue_dask)      # watch progress"
   ]
  },
  {
   "cell_type": "code",
   "execution_count": null,
   "metadata": {},
   "outputs": [],
   "source": [
    "pvalue = pvalue_dask.compute()"
   ]
  },
  {
   "cell_type": "code",
   "execution_count": null,
   "metadata": {},
   "outputs": [],
   "source": [
    "slope_dask = slope_dask.persist()  # start computation in the background\n",
    "progress(slope_dask)      # watch progress"
   ]
  },
  {
   "cell_type": "code",
   "execution_count": null,
   "metadata": {},
   "outputs": [],
   "source": [
    "slope = slope_dask.compute()"
   ]
  },
  {
   "cell_type": "code",
   "execution_count": null,
   "metadata": {},
   "outputs": [],
   "source": [
    "\n",
    "# compute standard deviation to create mask\n",
    "std = gdmp_ds.sel(time=slice(datetime(baseline_period[0], 1, 1), datetime(baseline_period[1], 12, 31))).std(dim='time')\n",
    "print(\"saving results\")\n",
    "## slope\n",
    "slope = slope.fillna(-999)\n",
    "slope = xr.where(std == 0, -999, slope)    # mask pixels where stdev = 0, i.e. anom is inf\n",
    "# write tiff file\n",
    "slope['GDMP'].rio.write_nodata(-999, inplace=True)\n",
    "slope.rio.write_crs(\"epsg:3035\", inplace=True)\n",
    "slope['GDMP'].rio.to_raster(os.path.join(out_path, f'GDMP_{resolution}_trend_slope.tif'), compress='LZW')\n",
    "\n",
    "## pvalue\n",
    "pvalue = pvalue.fillna(-999)\n",
    "pvalue = xr.where(std == 0, -999, pvalue)    # mask pixels where stdev = 0, i.e. anom is inf\n",
    "\n",
    "# write tiff file\n",
    "pvalue['GDMP'].rio.write_nodata(-999, inplace=True)\n",
    "pvalue.rio.write_crs(\"epsg:3035\", inplace=True)\n",
    "pvalue['GDMP'].rio.to_raster(os.path.join(out_path, f'GDMP_{resolution}_trend_pvalue.tif'), compress='LZW')\n",
    "print(\"end\")\n",
    "\n",
    "\n",
    "\n"
   ]
  }
 ],
 "metadata": {
  "kernelspec": {
   "display_name": "Python 3 (ipykernel)",
   "language": "python",
   "name": "python3"
  },
  "language_info": {
   "codemirror_mode": {
    "name": "ipython",
    "version": 3
   },
   "file_extension": ".py",
   "mimetype": "text/x-python",
   "name": "python",
   "nbconvert_exporter": "python",
   "pygments_lexer": "ipython3",
   "version": "3.9.16"
  },
  "orig_nbformat": 4
 },
 "nbformat": 4,
 "nbformat_minor": 2
}
